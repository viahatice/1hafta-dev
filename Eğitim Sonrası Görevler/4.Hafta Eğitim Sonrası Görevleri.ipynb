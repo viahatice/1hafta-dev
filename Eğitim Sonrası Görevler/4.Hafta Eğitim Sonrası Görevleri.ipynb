{
 "cells": [
  {
   "cell_type": "markdown",
   "metadata": {},
   "source": [
    "# Problem 1\n",
    "`ogrenciler` adında bir sözlük oluşturunuz. Kullanıcıdan döngü yardımıyla 3 öğrenci için veri girmesini isteyerek öğrencilerin sırasıyla okul numarası, isim, soy isim, telefon numarası ve doğum tarihi bilgilerini alınız. Aldığınız öğrenci bilgilerini yine aynı döngü yardımıyla `ogrenciler` adındaki sözlükte saklayınız. Daha sonra öğrenci bilgilerinin bulunduğu sözlük yapısını ekrana bastırınız.\n",
    "\n"
   ]
  },
  {
   "cell_type": "code",
   "execution_count": 4,
   "metadata": {},
   "outputs": [
    {
     "name": "stdout",
     "output_type": "stream",
     "text": [
      "{'öğrencinin ismi girilen': 'berk', 'telefon numarası': 53165855, 'doğum tarihi': '13031999', 'öğrencinin okul numarası': 123}\n",
      "{'öğrencinin ismi girilen': 'melike', 'telefon numarası': 53168566, 'doğum tarihi': '13031998', 'öğrencinin okul numarası': 1533}\n",
      "{'öğrencinin ismi girilen': 'hatice', 'telefon numarası': 5316605853, 'doğum tarihi': '13031997', 'öğrencinin okul numarası': 1234}\n"
     ]
    }
   ],
   "source": [
    "ogrenciler = {}\n",
    "for i in range(1,4):\n",
    "    girilen = input(\"öğrenci isim soyisim:\")\n",
    "    okulNumarasi = int(input(\"öğrencinin okul numarası:\"))\n",
    "    telefon = int(input(\"telefon numarası girin:\"))\n",
    "    dogumTarihi = input(\"Doğum tarihini girin:\")\n",
    "    ogrenciler = {\"öğrencinin ismi girilen\" : girilen, \"telefon numarası\" : telefon, \"doğum tarihi\" : dogumTarihi, \"öğrencinin okul numarası\" :okulNumarasi}\n",
    "    print(ogrenciler)                  "
   ]
  },
  {
   "cell_type": "markdown",
   "metadata": {},
   "source": [
    "# Problem 2\n",
    "\n",
    "### a - Biraz ısınarak başlayalım!\n",
    "\n",
    "```\n",
    "numbers = [5,10,10,15,15,15,20,20,20,20]\n",
    "```\n",
    "\n",
    "Yukarıda `numbers` adında 10 elemanlı bir liste verilmiştir. Bu listenin her elemanını kontrol eden ve tekrar eden elemanları bir kez olacak şekilde başka bir listeye kopyalayan bir program yazınız. Son olarak oluşturduğunuz listeyi ekrana bastırınız.\n",
    "\n",
    "\n",
    "\n",
    "\n",
    "```\n",
    ">Output\n",
    "[5, 10, 15, 20]\n",
    "```\n"
   ]
  },
  {
   "cell_type": "markdown",
   "metadata": {},
   "source": [
    "numbers = [5,10,10,15,15,15,20,20,20,20]\n",
    "\n",
    "x = set(numbers)\n",
    "numbers = list(x)\n",
    "print(numbers)"
   ]
  },
  {
   "cell_type": "markdown",
   "metadata": {},
   "source": [
    "### 🌶️ b) Hadi işi biraz daha zorlaştıralım! \n",
    "\n",
    "\n",
    "Şimdiyse senden `numbers` isimli listedeki tekrar eden elemanları `repeatNumbers` adındaki listeye; tekrar etmeyen elemanları `uniqueNumbers`adındaki listeye kopyalayan yazmanı ve listeleri ekrana bastırmanı bekliyoruz\n",
    "\n",
    "```\n",
    ">Output\n",
    "Tekrar Eden Elemanlar: [10, 10, 15, 15, 15, 20, 20, 20, 20]\n",
    "Tekrar Etmeyen Elemanlar: [5]\n",
    "```"
   ]
  },
  {
   "cell_type": "code",
   "execution_count": 7,
   "metadata": {},
   "outputs": [
    {
     "name": "stdout",
     "output_type": "stream",
     "text": [
      "tekrar etmeyen elemanlar: [5, 10, 15, 20]\n",
      "tekrar eden elemanlar: [10, 15, 15, 20, 20, 20]\n"
     ]
    }
   ],
   "source": [
    "numbers = [5,10,10,15,15,15,20,20,20,20]\n",
    "bosListe = []\n",
    "tekrarnumbers = []\n",
    "for deger in numbers:\n",
    "    if deger not in bosListe:\n",
    "        bosListe.append(deger)\n",
    "    else:\n",
    "        tekrarnumbers.append(deger)\n",
    "print(\"tekrar etmeyen elemanlar:\", bosListe)\n",
    "print(\"tekrar eden elemanlar:\", tekrarnumbers)\n"
   ]
  },
  {
   "cell_type": "markdown",
   "metadata": {},
   "source": [
    "# Problem 3\n",
    "sn1 = {1,2,3,4,5}\n",
    "\n",
    "sn2 = {4,5,6,7,8}\n",
    "\n",
    " Verilen 2 adet küme için kesişimlerini, farklarını ve birleşimlerini bulunuz. "
   ]
  },
  {
   "cell_type": "code",
   "execution_count": 8,
   "metadata": {},
   "outputs": [
    {
     "name": "stdout",
     "output_type": "stream",
     "text": [
      "{1, 2, 3, 4, 5, 6, 7, 8}\n",
      "{4, 5}\n",
      "{1, 2, 3}\n"
     ]
    }
   ],
   "source": [
    "sn1 = {1,2,3,4,5}\n",
    "sn2 = {4,5,6,7,8}\n",
    "\n",
    "print(sn1.union(sn2))\n",
    "print(sn1.intersection(sn2))\n",
    "print(sn1.difference(sn2))"
   ]
  },
  {
   "cell_type": "markdown",
   "metadata": {},
   "source": [
    "# Problem 4\n",
    "\n",
    "Buradaki işlemlerimizin tamamı stringler içindir. Aşağıda verilecek olan metodlar için kendinizin örnek yaratması gerekmektedir. \n",
    "\n",
    "Örneğin `upper` için `string` değişkeni oluştururken` k = \"BAC\"` şeklinde oluşturmayınız. Bunun yerine k değişkenini `k = \"bac`\" şeklinde oluşturmanız `upper` metodundaki değişimi görebilmeniz için daha iyi olacaktır.\n",
    "\n",
    "Bütün metodlardaki değişimin gözle görülür şekilde değişimi beklenmektedir.\n",
    "\n",
    "\n",
    "1- capitalize(), lower(), upper(), swapcase(), title(), replace()\n",
    "\n",
    "2- endswith(), startswith(), find(), index(), count()\n",
    "\n",
    "3- split(), strip(), join(), islower(), isalpha(), isdigit()\n",
    "\n",
    "\n",
    "Yukarıdaki `string` metodlarındaki değişimleri görebildiğimiz bir program yazınız.\n"
   ]
  },
  {
   "cell_type": "code",
   "execution_count": 9,
   "metadata": {},
   "outputs": [
    {
     "name": "stdout",
     "output_type": "stream",
     "text": [
      "     mart           mart           MART           MART           mert     \n",
      "False False 7 8\n",
      "['     mart     '] mart  - - - - -m-a-r-t- - - - -  True False False\n"
     ]
    }
   ],
   "source": [
    "x = \"     mart     \"\n",
    "print(\n",
    "    x.capitalize(),\n",
    "    x.lower(),\n",
    "    x.upper(),\n",
    "    x.swapcase(),\n",
    "    x.replace(\"a\", \"e\")\n",
    ")\n",
    "\n",
    "print(\n",
    "    x.endswith(\"t\"),\n",
    "    x.startswith(\"m\"),\n",
    "    x.find(\"r\"),\n",
    "    x.index(\"t\"),\n",
    ")\n",
    "\n",
    "ayirici = \"-\"\n",
    "print(\n",
    "    x.split(\",\"),\n",
    "    x.strip(),\n",
    "    ayirici.join(x),\n",
    "    x.islower(),\n",
    "    x.isalpha(),\n",
    "    x.isdigit()\n",
    ")"
   ]
  }
 ],
 "metadata": {
  "kernelspec": {
   "display_name": "Python 3.10.5 64-bit",
   "language": "python",
   "name": "python3"
  },
  "language_info": {
   "codemirror_mode": {
    "name": "ipython",
    "version": 3
   },
   "file_extension": ".py",
   "mimetype": "text/x-python",
   "name": "python",
   "nbconvert_exporter": "python",
   "pygments_lexer": "ipython3",
   "version": "3.11.1"
  },
  "orig_nbformat": 4,
  "vscode": {
   "interpreter": {
    "hash": "5026d2d6e7aaaaba093def813beadff083d8733e4a511af01735cbabd156995d"
   }
  }
 },
 "nbformat": 4,
 "nbformat_minor": 2
}
