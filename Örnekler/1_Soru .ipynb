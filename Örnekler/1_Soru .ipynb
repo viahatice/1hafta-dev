{
  "cells": [
    {
      "cell_type": "markdown",
      "metadata": {
        "id": "S33oJyyjyKgH"
      },
      "source": [
        "# Problem 1\n",
        "```test.txt``` dosyasındaki satır sayısını bularak ekrana yazdırınız.\n",
        "\n",
        "\n",
        "\n",
        "```\n",
        "> Output\n",
        "Number of lines in the file:  6\n",
        "\n",
        "```\n",
        "\n"
      ]
    },
    {
      "cell_type": "code",
      "execution_count": 1,
      "metadata": {
        "id": "POxFXvYByP0D"
      },
      "outputs": [
        {
          "name": "stdout",
          "output_type": "stream",
          "text": [
            "<_io.TextIOWrapper name='test.txt' mode='r' encoding='cp1254'>\n"
          ]
        }
      ],
      "source": [
        "f = open(\"test.txt\")\n",
        "print(f)"
      ]
    },
    {
      "cell_type": "code",
      "execution_count": 3,
      "metadata": {},
      "outputs": [
        {
          "ename": "SyntaxError",
          "evalue": "invalid syntax (1166807963.py, line 2)",
          "output_type": "error",
          "traceback": [
            "\u001b[1;36m  Cell \u001b[1;32mIn[3], line 2\u001b[1;36m\u001b[0m\n\u001b[1;33m    file= open(\"test.txt\",\"r\", encoding\"cp1254\")\u001b[0m\n\u001b[1;37m                                       ^\u001b[0m\n\u001b[1;31mSyntaxError\u001b[0m\u001b[1;31m:\u001b[0m invalid syntax\n"
          ]
        }
      ],
      "source": [
        "try:\n",
        "    file= open(\"test.txt\",\"r\", encoding\"cp1254\")\n",
        "except:\n",
        "    print(\"test.txt\",\"r\", encoding\"cp1254\")"
      ]
    }
  ],
  "metadata": {
    "colab": {
      "provenance": []
    },
    "kernelspec": {
      "display_name": "Python 3",
      "name": "python3"
    },
    "language_info": {
      "codemirror_mode": {
        "name": "ipython",
        "version": 3
      },
      "file_extension": ".py",
      "mimetype": "text/x-python",
      "name": "python",
      "nbconvert_exporter": "python",
      "pygments_lexer": "ipython3",
      "version": "3.11.1"
    }
  },
  "nbformat": 4,
  "nbformat_minor": 0
}
