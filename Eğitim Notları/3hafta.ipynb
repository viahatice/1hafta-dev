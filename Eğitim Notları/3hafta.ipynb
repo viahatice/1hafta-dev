{
 "cells": [
  {
   "cell_type": "code",
   "execution_count": null,
   "metadata": {},
   "outputs": [],
   "source": [
    "# KARŞILAŞTIRMA OPERATÖRLERİ\n",
    "# = atama operatörüdür. Mesela x = 5 dersek x değerini 5'e atamış oluyoruz.\n",
    "# == iki değerin birbirinee eşit olup olmadığını kontrol eder. Eşitse True eşit değilse False değerini döndürür.\n",
    "# > büyüktür.\n",
    "# < küçüktür\n",
    "# >= büyük eşittir\n",
    "# <= küçük eşittir."
   ]
  },
  {
   "cell_type": "code",
   "execution_count": 2,
   "metadata": {},
   "outputs": [],
   "source": [
    "a, b, c, d= 5, 5, 10, 4\n"
   ]
  },
  {
   "cell_type": "code",
   "execution_count": 3,
   "metadata": {},
   "outputs": [
    {
     "name": "stdout",
     "output_type": "stream",
     "text": [
      "True\n",
      "False\n"
     ]
    }
   ],
   "source": [
    "print(a == b)\n",
    "print(a == c)"
   ]
  },
  {
   "cell_type": "code",
   "execution_count": 5,
   "metadata": {},
   "outputs": [
    {
     "name": "stdout",
     "output_type": "stream",
     "text": [
      "False\n"
     ]
    }
   ],
   "source": [
    "username = \"admin\"\n",
    "password = \"12345\"\n",
    "print(\"berkcan\" == username)"
   ]
  },
  {
   "cell_type": "code",
   "execution_count": 4,
   "metadata": {},
   "outputs": [
    {
     "name": "stdout",
     "output_type": "stream",
     "text": [
      "False\n"
     ]
    }
   ],
   "source": [
    "print(a != b)"
   ]
  },
  {
   "cell_type": "code",
   "execution_count": 6,
   "metadata": {},
   "outputs": [
    {
     "name": "stdout",
     "output_type": "stream",
     "text": [
      "True\n"
     ]
    }
   ],
   "source": [
    "print(a != c)"
   ]
  },
  {
   "cell_type": "code",
   "execution_count": 7,
   "metadata": {},
   "outputs": [
    {
     "name": "stdout",
     "output_type": "stream",
     "text": [
      "False\n"
     ]
    }
   ],
   "source": [
    "print(a < b)"
   ]
  },
  {
   "cell_type": "code",
   "execution_count": 8,
   "metadata": {},
   "outputs": [
    {
     "name": "stdout",
     "output_type": "stream",
     "text": [
      "False\n"
     ]
    }
   ],
   "source": [
    "print(a > b)"
   ]
  },
  {
   "cell_type": "code",
   "execution_count": 9,
   "metadata": {},
   "outputs": [
    {
     "name": "stdout",
     "output_type": "stream",
     "text": [
      "True\n"
     ]
    }
   ],
   "source": [
    "print(a >= b)"
   ]
  },
  {
   "cell_type": "code",
   "execution_count": null,
   "metadata": {},
   "outputs": [],
   "source": [
    "# MANTIKSAL OPERATÖRLER\n",
    "#AND OPERATÖRÜ\n",
    "#True and true = True\n",
    "#True and false = False\n",
    "#False and True = False\n",
    "#False and false = False\n",
    "#Her iki durumda eğer doğruysa True değerini döndürür. Diğer durumlarda hep false değerini döndürür."
   ]
  },
  {
   "cell_type": "code",
   "execution_count": null,
   "metadata": {},
   "outputs": [],
   "source": []
  },
  {
   "cell_type": "code",
   "execution_count": 13,
   "metadata": {},
   "outputs": [
    {
     "name": "stdout",
     "output_type": "stream",
     "text": [
      "True\n"
     ]
    }
   ],
   "source": [
    "x = int(input(\"bir sayi giriniz:\"))\n",
    "print( x > 5 and x < 100)"
   ]
  },
  {
   "cell_type": "code",
   "execution_count": 14,
   "metadata": {},
   "outputs": [
    {
     "name": "stdout",
     "output_type": "stream",
     "text": [
      "True\n"
     ]
    }
   ],
   "source": [
    "hak = 5\n",
    "devamMi = True\n",
    "print( hak > 0 and devamMi == True)"
   ]
  },
  {
   "attachments": {},
   "cell_type": "markdown",
   "metadata": {},
   "source": [
    "OR OPERATÖRÜ\n",
    " true or true = True\n",
    " true or false = true\n",
    " false or true = True\n",
    " false or false = false\n",
    "Yalnızca  durumun yanlış olduğu zaman false diğer her durumda true değer verir. "
   ]
  },
  {
   "cell_type": "code",
   "execution_count": 20,
   "metadata": {},
   "outputs": [
    {
     "name": "stdout",
     "output_type": "stream",
     "text": [
      "False\n"
     ]
    }
   ],
   "source": [
    "x = int(input(\"Bir sayı giriniz:\"))\n",
    "\n",
    "print (x > 0 or x % 2 == 0)"
   ]
  },
  {
   "cell_type": "code",
   "execution_count": 21,
   "metadata": {},
   "outputs": [
    {
     "name": "stdout",
     "output_type": "stream",
     "text": [
      "True\n"
     ]
    }
   ],
   "source": [
    "print(3> 1 and 3> 2)"
   ]
  },
  {
   "attachments": {},
   "cell_type": "markdown",
   "metadata": {},
   "source": [
    "Not Operatörü\n",
    "True değerini false\n",
    "False için true döndürür."
   ]
  },
  {
   "cell_type": "code",
   "execution_count": 24,
   "metadata": {},
   "outputs": [
    {
     "name": "stdout",
     "output_type": "stream",
     "text": [
      "False\n"
     ]
    }
   ],
   "source": [
    "print(not(True))"
   ]
  },
  {
   "attachments": {},
   "cell_type": "markdown",
   "metadata": {},
   "source": [
    " Karar Yapıları\n",
    " Eğer if bloğu doğruysa diğer durumlara bakılmaz ve if bloğu altındaki kodlar çalışır.\n",
    " else yapısının kullanılması zorunlu değildir olsa da olur olmasa da\n",
    " elif yapısının kullanılması zorunlu değildir olsa da oltur olmasada \n",
    " else yapısı if ve varsa elif yapısının false olduğu durumda ikinci nihai durum olarak çalışır.\n",
    " elif yapısına birden çok farklı koşullardan doğacak durumların kontrolünü sağlamak için kullanırız.\n"
   ]
  },
  {
   "cell_type": "code",
   "execution_count": null,
   "metadata": {},
   "outputs": [],
   "source": [
    "if koşul:\n",
    "    # koşul doğruysa çalışacak kodlar\n",
    "elif koşul2: \n",
    "    # koşul2 doğruysa çalışacak kodlar\n",
    "else:\n",
    "    # koşul ve koşul2 yanlışsa çalışacak kodlar"
   ]
  },
  {
   "cell_type": "code",
   "execution_count": 25,
   "metadata": {},
   "outputs": [
    {
     "name": "stdout",
     "output_type": "stream",
     "text": [
      "If bloğu çalıştı.\n",
      "program sonlandı.\n"
     ]
    }
   ],
   "source": [
    "if 3 > 1:\n",
    "    print(\"If bloğu çalıştı.\")\n",
    "print(\"program sonlandı.\")"
   ]
  },
  {
   "cell_type": "code",
   "execution_count": 26,
   "metadata": {},
   "outputs": [
    {
     "name": "stdout",
     "output_type": "stream",
     "text": [
      "program sonlandı.\n"
     ]
    }
   ],
   "source": [
    "if 0 > 1 :\n",
    "       print(\"If bloğu çalıştı.\")\n",
    "print(\"program sonlandı.\")"
   ]
  },
  {
   "cell_type": "code",
   "execution_count": 30,
   "metadata": {},
   "outputs": [
    {
     "name": "stdout",
     "output_type": "stream",
     "text": [
      "2.sayı, 1.sayıdan büyüktür.\n"
     ]
    }
   ],
   "source": [
    "sayi1 = int(input(\"1. sayiyi giriniz.\"))\n",
    "sayi2 = int(input(\"2.sayiyi giriniz.\"))\n",
    "if sayi1 > sayi2:\n",
    "    print(\"1. sayı, 2.sayıdan büyüktür.\")\n",
    "elif sayi1 == sayi2:\n",
    "    print(\"sayılar birbirine eşittir.\")\n",
    "else:\n",
    "    print(\"2.sayı, 1.sayıdan büyüktür.\")"
   ]
  },
  {
   "cell_type": "code",
   "execution_count": 33,
   "metadata": {},
   "outputs": [
    {
     "name": "stdout",
     "output_type": "stream",
     "text": [
      "Bizde böyle bir süer kahraman yok.\n"
     ]
    }
   ],
   "source": [
    "superKahraman = input(\"bir süper kahraman giriniz.\")\n",
    "if superKahraman == \"Batman\":\n",
    "    print(\"Batman'i seçtiniz.\")\n",
    "elif superKahraman == \"Sperman\":\n",
    "    print(\"Sperman'i seçtiniz.\")\n",
    "else:\n",
    "    print(\"Bizde böyle bir süper kahraman yok.\")"
   ]
  },
  {
   "cell_type": "code",
   "execution_count": 35,
   "metadata": {},
   "outputs": [
    {
     "name": "stdout",
     "output_type": "stream",
     "text": [
      "10 sayısı 20 sayısından küçüktür ve 20 sayısı 30 sayısından küçüktür.\n"
     ]
    }
   ],
   "source": [
    "a= 10\n",
    "b = 20\n",
    "c = 30\n",
    "\n",
    "if a > b and b > c :\n",
    "    print(f\"{a} sayısı {b} sayısından büyüktür ve {b} sayısı {c} sayısından büyüktür.\")\n",
    "if a< b and b< c:\n",
    "    print(f\"{a} sayısı {b} sayısından küçüktür ve {b} sayısı {c} sayısından küçüktür.\")\n",
    "\n",
    "else:\n",
    "    print(\"Bu koşullar tutmadı.\")"
   ]
  },
  {
   "cell_type": "code",
   "execution_count": 36,
   "metadata": {},
   "outputs": [
    {
     "name": "stdout",
     "output_type": "stream",
     "text": [
      "YetGen Mezunusunuz.\n"
     ]
    }
   ],
   "source": [
    "yetgenMezunu = True\n",
    "if yetgenMezunu:\n",
    "    print(\"YetGen Mezunusunuz.\")\n",
    "else: \n",
    "    print(\"Yetge mezunu değilsiniz.\")"
   ]
  },
  {
   "cell_type": "code",
   "execution_count": 38,
   "metadata": {},
   "outputs": [
    {
     "name": "stdout",
     "output_type": "stream",
     "text": [
      "3.sayı 5'ten büyüktür.\n",
      "4. sayı 10'dan büyüktür\n"
     ]
    }
   ],
   "source": [
    "sayi3 = 10\n",
    "sayi4 = 20\n",
    "if sayi3 > 5:\n",
    "    print(\"3.sayı 5'ten büyüktür.\")\n",
    "    if sayi4 > 10:\n",
    "        print(\"4. sayı 10'dan büyüktür\")\n",
    "    else:\n",
    "        print(\"ikinci else\")\n",
    "else:\n",
    "    print(\"birinci else\")"
   ]
  },
  {
   "cell_type": "code",
   "execution_count": 39,
   "metadata": {},
   "outputs": [
    {
     "name": "stdout",
     "output_type": "stream",
     "text": [
      "yokmuş\n"
     ]
    }
   ],
   "source": [
    "isim = \"berkcan\"\n",
    "if \"gümüşışık\" in isim: #in operatörü var mı anlamında kullanılıyor.\n",
    "    print(\"varmış\")\n",
    "else:\n",
    "    print(\"yokmuş\")"
   ]
  },
  {
   "cell_type": "code",
   "execution_count": 40,
   "metadata": {},
   "outputs": [
    {
     "name": "stdout",
     "output_type": "stream",
     "text": [
      "5 sayısı tektir.\n"
     ]
    }
   ],
   "source": [
    "sayi = int(input(\"bir sayı giriniz.\"))\n",
    "if sayi %2 == 0:\n",
    "    print(f\"{sayi} sayısı çifttir\")\n",
    "else: \n",
    "    print(f\"{sayi} sayısı tektir.\")\n"
   ]
  },
  {
   "attachments": {},
   "cell_type": "markdown",
   "metadata": {},
   "source": [
    "İN OPERATÖRÜ\n",
    "Belirtilen bir değerin, dizi, metin, liste veya demet gibi bir dizinin öğesi olup olmadığını kontrol eder. True ya da false değeri döndürür."
   ]
  },
  {
   "cell_type": "code",
   "execution_count": 43,
   "metadata": {},
   "outputs": [
    {
     "data": {
      "text/plain": [
       "True"
      ]
     },
     "execution_count": 43,
     "metadata": {},
     "output_type": "execute_result"
    }
   ],
   "source": [
    "string = \" Yetgen\"\n",
    "\"p\" in string\n",
    "\"Y\" in string"
   ]
  },
  {
   "attachments": {},
   "cell_type": "markdown",
   "metadata": {},
   "source": [
    "DÖNGÜLER\n",
    "Döngüler, temel olarak, verilen koşullar karşılanana kadar devam eden tekrar eden bir süreçtir. \n",
    "Döngünün koşulu her zaman doğruysa döngü sonsuza kadar devam eder. Hangisine \"Sonsuz döngü\" denir. Bu tür döngülere genellikle while döngüsünde rastlarız.\n",
    "Eğer bir döngünün koşulu baştan yanlışsa, bu nedenle döngünün çalışmasına izin vermez. Sonra buna \"sıfır açma döngüsü\" denir."
   ]
  },
  {
   "attachments": {},
   "cell_type": "markdown",
   "metadata": {},
   "source": [
    "FOR DÖNGÜSÜ\n",
    "listlerin demetlerin stringlerin ve hatta sözlüklerin üzerinden dolaşmamızı sağlayan bir döngü türüdür. Yapısı şu şekildedir.\n"
   ]
  },
  {
   "cell_type": "code",
   "execution_count": null,
   "metadata": {},
   "outputs": [],
   "source": [
    "for eleman in veriYapisi:\n",
    "    Yapılacak işlemler"
   ]
  },
  {
   "cell_type": "code",
   "execution_count": 44,
   "metadata": {},
   "outputs": [
    {
     "name": "stdout",
     "output_type": "stream",
     "text": [
      "1\n",
      "2\n",
      "3\n",
      "4\n",
      "5\n"
     ]
    }
   ],
   "source": [
    "liste = [1,2,3,4,5]\n",
    "for i in liste:\n",
    "    print(i)"
   ]
  },
  {
   "cell_type": "code",
   "execution_count": 45,
   "metadata": {},
   "outputs": [
    {
     "name": "stdout",
     "output_type": "stream",
     "text": [
      "1\n",
      "4\n",
      "9\n",
      "16\n",
      "25\n"
     ]
    }
   ],
   "source": [
    "for i in liste:\n",
    "    print(i**2)"
   ]
  },
  {
   "cell_type": "code",
   "execution_count": 46,
   "metadata": {},
   "outputs": [
    {
     "name": "stdout",
     "output_type": "stream",
     "text": [
      "y\n",
      "e\n",
      "t\n",
      "g\n",
      "e\n",
      "n\n",
      " \n",
      "j\n",
      "u\n",
      "m\n",
      "p\n"
     ]
    }
   ],
   "source": [
    "string = \"yetgen jump\"\n",
    "for string1 in string:\n",
    "    print(string1)"
   ]
  },
  {
   "cell_type": "code",
   "execution_count": 48,
   "metadata": {},
   "outputs": [
    {
     "name": "stdout",
     "output_type": "stream",
     "text": [
      "1\n",
      "4\n",
      "9\n",
      "16\n",
      "25\n"
     ]
    }
   ],
   "source": [
    "sayilar = \"12345\"\n",
    "for x in sayilar:\n",
    "    print(int(x) * int(x))"
   ]
  },
  {
   "attachments": {},
   "cell_type": "markdown",
   "metadata": {},
   "source": [
    "WHİLE DÖNGÜSÜ: Belli bir koşul sağlandığı sürece bloğundaki işlemleri gerçekleştirmeye devam eder. While döngülerinin sona ermesi için koşul durumunun bir süre sonra False olması gereklidir. Yapısı şu şekildedir:\n"
   ]
  },
  {
   "cell_type": "code",
   "execution_count": null,
   "metadata": {},
   "outputs": [],
   "source": [
    "while koşul:\n",
    "    yapılacak işlemler"
   ]
  },
  {
   "cell_type": "code",
   "execution_count": 50,
   "metadata": {},
   "outputs": [
    {
     "name": "stdout",
     "output_type": "stream",
     "text": [
      "toplam:  55\n"
     ]
    }
   ],
   "source": [
    "sum = 0\n",
    "i = 1\n",
    "while i < 11:\n",
    "    sum += i # sum = sum + i\n",
    "    i += 1\n",
    "print(\"toplam: \", sum)"
   ]
  },
  {
   "attachments": {},
   "cell_type": "markdown",
   "metadata": {},
   "source": [
    "Range() Fonksiyonu: range (başlangıç, bitiş, artış miktarı) şeklinde kullanılır."
   ]
  },
  {
   "cell_type": "code",
   "execution_count": 51,
   "metadata": {},
   "outputs": [
    {
     "name": "stdout",
     "output_type": "stream",
     "text": [
      "range(1, 10, 2)\n"
     ]
    }
   ],
   "source": [
    "print(range(1,10,2))"
   ]
  },
  {
   "cell_type": "code",
   "execution_count": 53,
   "metadata": {},
   "outputs": [
    {
     "name": "stdout",
     "output_type": "stream",
     "text": [
      "1\n",
      "3\n",
      "5\n",
      "7\n",
      "9\n"
     ]
    }
   ],
   "source": [
    "for x in range(1,10,2):\n",
    "    print(x)"
   ]
  },
  {
   "cell_type": "code",
   "execution_count": 54,
   "metadata": {},
   "outputs": [
    {
     "name": "stdout",
     "output_type": "stream",
     "text": [
      "0\n",
      "1\n",
      "2\n",
      "3\n",
      "4\n"
     ]
    }
   ],
   "source": [
    "for x in range(5):\n",
    "    print(x)"
   ]
  },
  {
   "cell_type": "code",
   "execution_count": 55,
   "metadata": {},
   "outputs": [
    {
     "name": "stdout",
     "output_type": "stream",
     "text": [
      "0\n",
      "10\n",
      "20\n",
      "30\n",
      "40\n",
      "50\n",
      "60\n",
      "70\n",
      "80\n",
      "90\n",
      "100\n"
     ]
    }
   ],
   "source": [
    "for x in range (0,101,10):\n",
    "    print(x)"
   ]
  },
  {
   "attachments": {},
   "cell_type": "markdown",
   "metadata": {},
   "source": [
    "break: döngüyü sonlandırır.\n",
    "continue: döngünün sonraki adımına geçer.\n"
   ]
  },
  {
   "cell_type": "code",
   "execution_count": 56,
   "metadata": {},
   "outputs": [
    {
     "name": "stdout",
     "output_type": "stream",
     "text": [
      "0\n",
      "1\n",
      "2\n",
      "3\n",
      "4\n"
     ]
    }
   ],
   "source": [
    "i = 0\n",
    "while i < 10:\n",
    "    if(i == 5):\n",
    "        break\n",
    "    else:\n",
    "        print(i)\n",
    "    i += 1\n"
   ]
  },
  {
   "cell_type": "code",
   "execution_count": 57,
   "metadata": {},
   "outputs": [
    {
     "name": "stdout",
     "output_type": "stream",
     "text": [
      "uygulamadan çıkmak için q ya bas.\n",
      "yaşınız: 22\n",
      "uygulamadan çıkmak için q ya bas.\n",
      "yaşınız: 55\n",
      "uygulamadan çıkmak için q ya bas.\n",
      "yaşınız: 55\n",
      "uygulamadan çıkmak için q ya bas.\n",
      "yaşınız: 12\n",
      "uygulamadan çıkmak için q ya bas.\n"
     ]
    }
   ],
   "source": [
    "while True:\n",
    "    print(\"uygulamadan çıkmak için q ya bas.\")\n",
    "    yas = input(\"Yaş:\")\n",
    "    if( yas == \"q\"):\n",
    "        break\n",
    "    else: \n",
    "        print(\"yaşınız:\", yas)"
   ]
  },
  {
   "cell_type": "code",
   "execution_count": 1,
   "metadata": {},
   "outputs": [
    {
     "name": "stdout",
     "output_type": "stream",
     "text": [
      "0\n",
      "1\n",
      "2\n",
      "3\n",
      "4\n",
      "6\n"
     ]
    }
   ],
   "source": [
    "for i in range(7):\n",
    "    if i == 5:\n",
    "        continue\n",
    "    print(i)"
   ]
  }
 ],
 "metadata": {
  "kernelspec": {
   "display_name": "Python 3",
   "language": "python",
   "name": "python3"
  },
  "language_info": {
   "codemirror_mode": {
    "name": "ipython",
    "version": 3
   },
   "file_extension": ".py",
   "mimetype": "text/x-python",
   "name": "python",
   "nbconvert_exporter": "python",
   "pygments_lexer": "ipython3",
   "version": "3.11.1"
  },
  "orig_nbformat": 4
 },
 "nbformat": 4,
 "nbformat_minor": 2
}
