{
 "cells": [
  {
   "attachments": {},
   "cell_type": "markdown",
   "metadata": {},
   "source": [
    "Methotlar"
   ]
  },
  {
   "cell_type": "code",
   "execution_count": 16,
   "metadata": {},
   "outputs": [],
   "source": [
    "class Yazilimci():\n",
    "    def __init__(self,isim,soyisim,numara,maas,diller):\n",
    "        self.isim = isim\n",
    "        self.soyisim = soyisim\n",
    "        self.numara = numara\n",
    "        self.maas = maas\n",
    "        self.diller = diller\n",
    "\n",
    "        def bilgileri_goster(self):\n",
    "            print(f\"\"\"\n",
    "            Çalışan bilgisi : \n",
    "                İsim : {self.isim}\n",
    "                Soyisim: {self.soyisim}\n",
    "                Numara: {self.numara}\n",
    "                Maaş : {self.maas}\n",
    "                Bildiği diller: {self.diller}\n",
    "                \"\"\")\n",
    "        def dil_ekle(self, yeni_dil):\n",
    "            print(\"Dil eklendi\")\n",
    "            self.diller.append(yeni_dil)\n",
    "        \n",
    "        def maas_yukselt(self, zam):\n",
    "            print(\"Zam yapılıyor\")\n",
    "            self.maas += 250     "
   ]
  },
  {
   "cell_type": "code",
   "execution_count": 15,
   "metadata": {},
   "outputs": [],
   "source": [
    "yazilimci = Yazilimci(\"Berkcan\", \"Gümüşışık\", 12345, 10000, [\"Python\", \"Flutter\", \"JS\"])"
   ]
  },
  {
   "cell_type": "code",
   "execution_count": 21,
   "metadata": {},
   "outputs": [
    {
     "ename": "AttributeError",
     "evalue": "'Yazilimci' object has no attribute 'bilgileri_goster'",
     "output_type": "error",
     "traceback": [
      "\u001b[1;31m---------------------------------------------------------------------------\u001b[0m",
      "\u001b[1;31mAttributeError\u001b[0m                            Traceback (most recent call last)",
      "Cell \u001b[1;32mIn[21], line 1\u001b[0m\n\u001b[1;32m----> 1\u001b[0m yazilimci\u001b[39m.\u001b[39;49mbilgileri_goster()\n",
      "\u001b[1;31mAttributeError\u001b[0m: 'Yazilimci' object has no attribute 'bilgileri_goster'"
     ]
    }
   ],
   "source": [
    "yazilimci.bilgileri_goster()"
   ]
  },
  {
   "cell_type": "code",
   "execution_count": 23,
   "metadata": {},
   "outputs": [
    {
     "ename": "AttributeError",
     "evalue": "'Yazilimci' object has no attribute 'maas_yukselt'",
     "output_type": "error",
     "traceback": [
      "\u001b[1;31m---------------------------------------------------------------------------\u001b[0m",
      "\u001b[1;31mAttributeError\u001b[0m                            Traceback (most recent call last)",
      "Cell \u001b[1;32mIn[23], line 1\u001b[0m\n\u001b[1;32m----> 1\u001b[0m yazilimci\u001b[39m.\u001b[39;49mmaas_yukselt(\u001b[39m250\u001b[39m)\n",
      "\u001b[1;31mAttributeError\u001b[0m: 'Yazilimci' object has no attribute 'maas_yukselt'"
     ]
    }
   ],
   "source": [
    "yazilimci.maas_yukselt(250)"
   ]
  },
  {
   "attachments": {},
   "cell_type": "markdown",
   "metadata": {},
   "source": [
    "Inheritance\n",
    "* Bu konsepti aslında bizim kendi anne babamızın değişik özellikleri ve davranışları miras almamıza benzetebiliriz. \n",
    "* Bir sınıfın özelliklerinin ve metodlarının başka sınıflara aktarılarak işlevinin artırılmasını sağlar.\n",
    "* Mesela öğrenci ve öğretmeni düşündüğümüz zaman öğrencinin ad, soyad, adres, cinsiyeti ve numarası vardır. Öğretmeninse ad, soyad, adres, cinsiyet ve branşı vardır. Bunun yerine kişi sınıfı oluşturup ad, soyad, adres ve cinsiyet tutulur.\n",
    "* Öğrenci ve öğretmen classında ise öğrenciye veya öğretmene özgü özellikler ve metotlar tutulur.\n",
    "* super() en genel anlamıyla miras aldığımız sınıfın metodlarını alt sınıflardan kullanmamızı sağlar.\n",
    "* super().init() metodu çalışırken sınıfın özelliklerini ve metodlarını kullanır. \n",
    "* Buse class ana sınıftır.\n",
    "* Sub class base class'ının özelliklerini ve metodlarını kullanır. "
   ]
  },
  {
   "cell_type": "code",
   "execution_count": 39,
   "metadata": {},
   "outputs": [
    {
     "name": "stdout",
     "output_type": "stream",
     "text": [
      "PErson nesnesi türetildi.\n",
      "Berkcan Gümüşışık 23\n"
     ]
    }
   ],
   "source": [
    "class Person:\n",
    "    def __init__(self, name, surname, age):\n",
    "        self.name = name\n",
    "        self.surname = surname\n",
    "        self.age = age\n",
    "        print(\"PErson nesnesi türetildi.\")\n",
    "    def intro(self):\n",
    "        print(self.name, self.surname, self.age)\n",
    "\n",
    "class Student(Person):\n",
    "    def __init__(self,name,surname,age,number):\n",
    "        super().__init__(name,surname,age,number)\n",
    "        self.number = number\n",
    "        print(\"student nesnesi çalıştı\")\n",
    "    def intro(self):\n",
    "        print(self.name, self.surname, self.age, self.number)\n",
    "    def study(self):\n",
    "        print(f\"{self.number} numaralı öğrenci ders çalışıyor.\")\n",
    "\n",
    "class Teacher:\n",
    "    def __init__(self, name, surname, age, branch):\n",
    "        super().__init__(name,surname,age)\n",
    "        self.branch = branch\n",
    "        print(\"Teacher nesnesi çalıştı\")\n",
    "        \n",
    "    \n",
    "    def teach(self):\n",
    "        print(f\"{self.name} isimli çğretmen {self.branch} dersine girmektedir.\")\n",
    "\n",
    "    p1 = Person(\"Berkcan\", \"Gümüşışık\",23)\n",
    "    p1.intro()\n"
   ]
  },
  {
   "cell_type": "code",
   "execution_count": 40,
   "metadata": {},
   "outputs": [
    {
     "ename": "TypeError",
     "evalue": "Person.__init__() takes 4 positional arguments but 5 were given",
     "output_type": "error",
     "traceback": [
      "\u001b[1;31m---------------------------------------------------------------------------\u001b[0m",
      "\u001b[1;31mTypeError\u001b[0m                                 Traceback (most recent call last)",
      "Cell \u001b[1;32mIn[40], line 1\u001b[0m\n\u001b[1;32m----> 1\u001b[0m s1 \u001b[39m=\u001b[39m Student(\u001b[39m\"\u001b[39;49m\u001b[39mYetgen\u001b[39;49m\u001b[39m\"\u001b[39;49m,\u001b[39m\"\u001b[39;49m\u001b[39mJump\u001b[39;49m\u001b[39m\"\u001b[39;49m, \u001b[39m20\u001b[39;49m, \u001b[39m1001\u001b[39;49m)\n\u001b[0;32m      2\u001b[0m s1\u001b[39m.\u001b[39mintro()\n\u001b[0;32m      3\u001b[0m s1\u001b[39m.\u001b[39mstudy()\n",
      "Cell \u001b[1;32mIn[39], line 12\u001b[0m, in \u001b[0;36mStudent.__init__\u001b[1;34m(self, name, surname, age, number)\u001b[0m\n\u001b[0;32m     11\u001b[0m \u001b[39mdef\u001b[39;00m \u001b[39m__init__\u001b[39m(\u001b[39mself\u001b[39m,name,surname,age,number):\n\u001b[1;32m---> 12\u001b[0m     \u001b[39msuper\u001b[39;49m()\u001b[39m.\u001b[39;49m\u001b[39m__init__\u001b[39;49m(name,surname,age,number)\n\u001b[0;32m     13\u001b[0m     \u001b[39mself\u001b[39m\u001b[39m.\u001b[39mnumber \u001b[39m=\u001b[39m number\n\u001b[0;32m     14\u001b[0m     \u001b[39mprint\u001b[39m(\u001b[39m\"\u001b[39m\u001b[39mstudent nesnesi çalıştı\u001b[39m\u001b[39m\"\u001b[39m)\n",
      "\u001b[1;31mTypeError\u001b[0m: Person.__init__() takes 4 positional arguments but 5 were given"
     ]
    }
   ],
   "source": [
    "s1 = Student(\"Yetgen\",\"Jump\", 20, 1001)\n",
    "s1.intro()\n",
    "s1.study()"
   ]
  },
  {
   "cell_type": "code",
   "execution_count": null,
   "metadata": {},
   "outputs": [],
   "source": []
  }
 ],
 "metadata": {
  "kernelspec": {
   "display_name": "Python 3",
   "language": "python",
   "name": "python3"
  },
  "language_info": {
   "codemirror_mode": {
    "name": "ipython",
    "version": 3
   },
   "file_extension": ".py",
   "mimetype": "text/x-python",
   "name": "python",
   "nbconvert_exporter": "python",
   "pygments_lexer": "ipython3",
   "version": "3.11.1"
  },
  "orig_nbformat": 4
 },
 "nbformat": 4,
 "nbformat_minor": 2
}
